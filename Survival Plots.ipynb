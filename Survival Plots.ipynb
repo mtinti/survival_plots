{
 "cells": [
  {
   "cell_type": "code",
   "execution_count": 38,
   "metadata": {},
   "outputs": [],
   "source": [
    "#imports\n",
    "%matplotlib inline\n",
    "\n",
    "import pandas as pd\n",
    "import numpy as np\n",
    "import matplotlib.pyplot as plt\n",
    "import seaborn as sns\n",
    "from lifelines import KaplanMeierFitter\n",
    "from lifelines.statistics import logrank_test"
   ]
  },
  {
   "cell_type": "markdown",
   "metadata": {},
   "source": [
    "### Import the data"
   ]
  },
  {
   "cell_type": "code",
   "execution_count": 47,
   "metadata": {},
   "outputs": [],
   "source": [
    "#visualise t. brucei\n",
    "tbb_table = pd.read_table('tbb.txt')\n",
    "tbb_table.head()\n",
    "\n",
    "control = tbb_table[tbb_table['g']=='control']\n",
    "melarsoprol = tbb_table[tbb_table['g']=='melarsoprol']\n",
    "compound25 = tbb_table[tbb_table['g']=='compound25']"
   ]
  },
  {
   "cell_type": "markdown",
   "metadata": {},
   "source": [
    "### Create a Kaplan Meier survaival plot"
   ]
  },
  {
   "cell_type": "code",
   "execution_count": 49,
   "metadata": {},
   "outputs": [
    {
     "data": {
      "image/png": "[encoded data removed]",
      "text/plain": [
       "<Figure size 432x288 with 1 Axes>"
      ]
     },
     "metadata": {},
     "output_type": "display_data"
    }
   ],
   "source": [
    "#the actual plot\n",
    "fig,ax = plt.subplots()\n",
    "kmf = KaplanMeierFitter()\n",
    "\n",
    "kmf.fit(control['T'].values,\n",
    "        control['E'].values,\n",
    "        label='Control',\n",
    "        )\n",
    "kmf.plot(ax=ax,ci_show=False,alpha=0.8)\n",
    "\n",
    "\n",
    "\n",
    "kmf.fit(melarsoprol['T'].values,\n",
    "        melarsoprol['E'].values,\n",
    "        label='Melarsoprol'\n",
    "        )\n",
    "kmf.plot(ax=ax,ci_show=False,alpha=0.8)\n",
    "\n",
    "kmf.fit(compound25['T'].values,\n",
    "        compound25['E'].values,\n",
    "        label='Compound 25'\n",
    "       )\n",
    "kmf.plot(ax=ax,ci_show=False,alpha=0.8)\n",
    "\n",
    "sns.set_style(\"ticks\")\n",
    "sns.despine(offset=10, trim=True)\n",
    "ax.axvline(2,c='r',ls='--',alpha=0.8,label='Day Infection')\n",
    "plt.legend(loc='center left', bbox_to_anchor=(1, 0.5))\n",
    "plt.xlabel('Days')\n",
    "plt.ylabel('Probability Alive')\n",
    "plt.title(\"T. brucei\")\n",
    "plt.show()\n",
    "#kmf.event_table"
   ]
  },
  {
   "cell_type": "markdown",
   "metadata": {},
   "source": [
    "### Stats time"
   ]
  },
  {
   "cell_type": "code",
   "execution_count": 51,
   "metadata": {},
   "outputs": [
    {
     "name": "stdout",
     "output_type": "stream",
     "text": [
      "\n",
      "t_0=-1, alpha=0.99, null_distribution=chi squared, df=1\n",
      "\n",
      "test_statistic      p    \n",
      "        8.0000 0.0047  **\n",
      "---\n",
      "Signif. codes:  0 '***' 0.001 '**' 0.01 '*' 0.05 '.' 0.1 ' ' 1 \n"
     ]
    }
   ],
   "source": [
    "#significance between the control and Melarsoprol\n",
    "results = logrank_test(control['T'],\n",
    "                       melarsoprol['T'],\n",
    "                       control['E'],\n",
    "                       melarsoprol['E'], alpha=.99)\n",
    "results.print_summary()"
   ]
  },
  {
   "cell_type": "code",
   "execution_count": 52,
   "metadata": {},
   "outputs": [
    {
     "name": "stdout",
     "output_type": "stream",
     "text": [
      "\n",
      "t_0=-1, alpha=0.99, null_distribution=chi squared, df=1\n",
      "\n",
      "test_statistic      p    \n",
      "        8.0000 0.0047  **\n",
      "---\n",
      "Signif. codes:  0 '***' 0.001 '**' 0.01 '*' 0.05 '.' 0.1 ' ' 1 \n"
     ]
    }
   ],
   "source": [
    "#significance between the control and Compound 25\n",
    "results = logrank_test(control['T'],\n",
    "                       compound25['T'],\n",
    "                       control['E'],\n",
    "                       compound25['E'], alpha=.99)\n",
    "results.print_summary()"
   ]
  },
  {
   "cell_type": "code",
   "execution_count": 53,
   "metadata": {},
   "outputs": [
    {
     "name": "stdout",
     "output_type": "stream",
     "text": [
      "\n",
      "t_0=-1, alpha=0.99, null_distribution=chi squared, df=1\n",
      "\n",
      "test_statistic      p   \n",
      "        1.0000 0.3173\n",
      "---\n",
      "Signif. codes:  0 '***' 0.001 '**' 0.01 '*' 0.05 '.' 0.1 ' ' 1 \n"
     ]
    }
   ],
   "source": [
    "#sanity check, significance between the Melarsoprol and Compound 25\n",
    "results = logrank_test(melarsoprol['T'],\n",
    "                       compound25['T'],\n",
    "                       melarsoprol['E'],\n",
    "                       compound25['E'], alpha=.99)\n",
    "results.print_summary()"
   ]
  },
  {
   "cell_type": "code",
   "execution_count": 54,
   "metadata": {},
   "outputs": [],
   "source": []
  },
  {
   "cell_type": "code",
   "execution_count": 55,
   "metadata": {},
   "outputs": [
    {
     "name": "stdout",
     "output_type": "stream",
     "text": [
      "[master (root-commit) 8ba0565] first commit\r\n",
      " Committer: Michele Tinti <mtinti@ls29490.local>\r\n",
      "Your name and email address were configured automatically based\r\n",
      "on your username and hostname. Please check that they are accurate.\r\n",
      "You can suppress this message by setting them explicitly. Run the\r\n",
      "following command and follow the instructions in your editor to edit\r\n",
      "your configuration file:\r\n",
      "\r\n",
      "    git config --global --edit\r\n",
      "\r\n",
      "After doing this, you may fix the identity used for this commit with:\r\n",
      "\r\n",
      "    git commit --amend --reset-author\r\n",
      "\r\n",
      " 2 files changed, 235 insertions(+)\r\n",
      " create mode 100644 Survival Plots.ipynb\r\n",
      " create mode 100644 tbb.txt\r\n"
     ]
    }
   ],
   "source": [
    "!git add *\n",
    "!git commit -m 'add requirment'\n",
    "!git push -u origin master"
   ]
  },
  {
   "cell_type": "code",
   "execution_count": 56,
   "metadata": {},
   "outputs": [
    {
     "name": "stdout",
     "output_type": "stream",
     "text": [
      "Counting objects: 4, done.\n",
      "Delta compression using up to 8 threads.\n",
      "Compressing objects: 100% (4/4), done.\n",
      "Writing objects: 100% (4/4), 12.58 KiB | 0 bytes/s, done.\n",
      "Total 4 (delta 0), reused 0 (delta 0)\n",
      "To https://github.com/mtinti/survival_plots.git\n",
      " * [new branch]      master -> master\n",
      "Branch master set up to track remote branch master from origin.\n"
     ]
    }
   ],
   "source": [
    "#!git remote add origin https://github.com/mtinti/survival_plots.git\n"
   ]
  },
  {
   "cell_type": "code",
   "execution_count": null,
   "metadata": {},
   "outputs": [],
   "source": []
  }
 ],
 "metadata": {
  "kernelspec": {
   "display_name": "Python 3",
   "language": "python",
   "name": "python3"
  },
  "language_info": {
   "codemirror_mode": {
    "name": "ipython",
    "version": 3
   },
   "file_extension": ".py",
   "mimetype": "text/x-python",
   "name": "python",
   "nbconvert_exporter": "python",
   "pygments_lexer": "ipython3",
   "version": "3.6.5"
  }
 },
 "nbformat": 4,
 "nbformat_minor": 2
}
